{
 "cells": [
  {
   "cell_type": "markdown",
   "metadata": {},
   "source": [
    "# Neural Networks Extended"
   ]
  },
  {
   "cell_type": "markdown",
   "metadata": {},
   "source": [
    "<a id='Table_of_Content'></a>\n",
    "\n",
    "\n",
    "*  **[1. Parameter Initialization](#1.Parameter_Initialization)**\n",
    " * [1.1. Weight Initialization](#1.1.WeightInitialization)\n",
    " * [1.1.1. All Zero Initialization](#1.1.1.All_Zero_Initialization)\n",
    " * [1.1.2. Small Random Number](#1.1.2.Small_Random_Number)\n",
    " * [1.1.3. Large Random Number](#1.1.3.Large_Random_Number)\n",
    " * [1.1.4. Xavier Initialization (Optimum Way)](#1.1.4.Xavier_Initialization)\n",
    " * [1.2. Bias Initialization](#1.2.Bias_Initialization)\n",
    " * [1.3. Data Pre-processing](#1.3.Data_Pre-processing)\n",
    " * [1.3.1. Overview](#1.3.1.Overview)\n",
    " * [1.3.2. Mean Subtraction](#1.3.2.Mean_Subtraction)\n",
    " * [1.3.3. Normalization](#1.3.3.Normalization)\n",
    "* **[2. Activation Function](#2.Activation_Function)**\n",
    " * [2.1. Overview](#2.1.Overview)\n",
    " *  [2.2. Examples of activation functions](#2.2.Examples_of)\n",
    " *  [2.2.1. Sigmoid](#2.2.1.Sigmoid)\n",
    " *  [2.2.2. Tanh](#2.2.2.Tanh)\n",
    " *  [2.2.3. ReLU](#2.2.3.ReLU)\n",
    " *  [2.2.4. Leaky ReLU](#2.2.4.Leaky_ReLU)\n",
    " *  [2.2.5. Softmax](#2.2.5.Softmax)\n",
    " *  [2.2.5.1. Cross Entropy Loss (a.k.a log loss)](#2.2.5.1.Cross_Entropy_Loss)\n",
    "* **[3. Batch Normalization](#3.Batch_Normalization)**\n",
    "* **[4. Dropout Regularization](#4.Dropout_Regularization)**\n",
    " *  [4.1. Overview](#4.1.Overview)\n",
    "* **[5. Optimization (Parameter Updates)](#5.Optimization)**\n",
    " *  [5.1. Stochastic Gradient Descent (SGD)](#5.1.Stochastic_Gradient_Descent)\n",
    " *  [5.2. SGD + Momentum](#5.2.SGD_Momentum)\n",
    " *  [5.3. SGD + Nesterov Momentum](#5.3.SGD_Nesterov_Momentum)\n",
    " *  [5.4. Adagrad](#5.4.Adagrad)\n",
    " *  [5.5. RMSProp](#5.5.RMSProp)\n",
    " *  [5.6. Adaptive Moment Estimation (Adam)](#5.6.Adam)\n",
    "* **[6. CIFAR-10 dataset](#6.Use_Case)**"
   ]
  },
  {
   "cell_type": "markdown",
   "metadata": {},
   "source": [
    "<a id='1.Parameter_Initialization'></a>\n",
    "# 1. Parameter Initialization\n",
    "\n",
    "Parameter initialization is a very important step in getting neural networks to start. Without a careful initialization, the neural networks may slow to converge or not converge at all."
   ]
  },
  {
   "cell_type": "markdown",
   "metadata": {},
   "source": [
    "<a id='1.1.WeightInitialization'></a>\n",
    "\n",
    "## 1.1. Weight Initialization\n",
    "\n",
    "There are few scenarios of weight initialization:\n",
    "\n",
    "<a id='1.1.1.All_Zero_Initialization'></a>\n",
    "### 1.1.1. All Zero Initialization\n",
    "\n",
    "- If all the initial weights are set to zero, every neuron computes the same output, ends up computing the same gradients during backpropagation and performing the same parameter updates. This is just equivalent to a linear model. Hence, it is generally a **bad idea**.\n",
    "\n",
    "\n",
    "<a id='1.1.2.Small_Random_Number'></a>\n",
    "### 1.1.2. Small Random Number\n",
    "\n",
    "- Initializing weights with small random numbers works for simple Neural Network, i.e. $\\leq 5$ hidden layers but not for deeper Neural Network.\n",
    "\n",
    "- This is because the gradient will get smaller and smaller during the backward pass. If we have deeper network with small weight initialized, the \"gradient signal\" would eventually vanish during the backward pass through a network in deep networks (e.g. $>5$ hidden layers). When the gradient is close to zero means the weight update is minor and lead to slower convergence. In the worst case, this may cause the neural network to stop learning. This is known as **vanishing gradients**.\n",
    "\n",
    "<a id='1.1.3.Large_Random_Number'></a>\n",
    "### 1.1.3. Large Random Number\n",
    "\n",
    "\n",
    "- When the large weights are multiplied along the layers, they cause a large change in cost. As a consequence, the gradients computed from these weights would be large, and the updates taken would be in huge steps. This may lead to the oscillation around the global minima or even overshooting the global minima again and again. As a result, the neural network might never converge. This is known as **exploding gradients**.\n",
    "\n",
    "<a id='1.1.4.Xavier_Initialization'></a>\n",
    "### 1.1.4. Xavier Initialization (Optimum Way)\n",
    "\n",
    "- In short, Xavier initialization makes sure the weights are ‘just right’, keeping the signal in a reasonable range of values through many layers.\n",
    "\n",
    "- Xavier initialization initializes the weights by suggesting that the variance of the Gaussian distribution of weights for each layer should depend on the number of input features to the layer. Commonly the variance of every weight would be:\n",
    "\n",
    "\n",
    "$$ Var(W)=\\frac{1}{n_{in}}$$\n",
    "\n",
    "- To get the variance of the gaussian distributed weight to shift from $1$ to $\\frac{1}{n_{in}}$, what we do is to multiply gaussian distributed weight with $\\sqrt\\frac{1}{n_{in}}$.\n",
    "\n",
    "- Recently, there is derivative of Xavier Initialization specifically for ReLU activation function:\n",
    "\n",
    "$$ Var(W)=\\frac{2}{n_{in}}$$\n",
    "\n",
    "- The mathematical notation above doubles the size of weight variance to keep the variance constant as ReLU is zero for half of its input. This Xavier Initialization is recommended to use in practice when the neural network is dealing with ReLU neurons.\n",
    "\n"
   ]
  },
  {
   "cell_type": "code",
   "execution_count": 1,
   "metadata": {},
   "outputs": [],
   "source": [
    "# Import libraries\n",
    "\n",
    "import numpy as np\n",
    "import matplotlib.pyplot as plt\n"
   ]
  },
  {
   "cell_type": "code",
   "execution_count": 2,
   "metadata": {},
   "outputs": [
    {
     "data": {
      "image/png": "[encoded data removed]",
      "text/plain": [
       "<Figure size 1296x360 with 4 Axes>"
      ]
     },
     "metadata": {
      "needs_background": "light"
     },
     "output_type": "display_data"
    }
   ],
   "source": [
    "# N_in is number of input features\n",
    "# N_out is number of output features\n",
    "\n",
    "def Xavier_initialization(N_in, N_out):\n",
    "    return np.random.randn(N_in, N_out).astype(np.float32) * np.sqrt(2.0/(N_in))\n",
    "\n",
    "W_gausian = np.random.randn(100,100)\n",
    "W_xavier_1 = Xavier_initialization(50,100)\n",
    "W_xavier_2 = Xavier_initialization(100,100)\n",
    "W_xavier_3 = Xavier_initialization(200,100)\n",
    "\n",
    "fig, axs = plt.subplots(1, 4, sharex=True,figsize=(18,5))\n",
    "\n",
    "axs[0].hist(W_gausian.reshape(-1), bins=30)\n",
    "axs[0].set_title(\"Gaussian Distribution\")\n",
    "axs[1].hist(W_xavier_1.reshape(-1), bins=30)\n",
    "axs[1].set_title(\"Xavier (Ninput = 50)\")\n",
    "axs[2].hist(W_xavier_2.reshape(-1), bins=30)\n",
    "axs[2].set_title(\"Xavier (Ninput = 100)\")\n",
    "axs[3].hist(W_xavier_3.reshape(-1), bins=30)\n",
    "axs[3].set_title(\"Xavier (Ninput = 200)\")\n",
    "plt.show()"
   ]
  },
  {
   "cell_type": "markdown",
   "metadata": {},
   "source": [
    "<a id='1.2.Bias_Initialization'></a>\n",
    "\n",
    "## 1.2. Bias Initialization\n",
    "On the other hand, it is a comman practice to initialize the biases to be zero."
   ]
  },
  {
   "cell_type": "markdown",
   "metadata": {},
   "source": [
    "<a id='1.3.Data_Pre-processing'></a>\n",
    "\n",
    "## 1.3. Data Pre-processing\n",
    "\n",
    "<a id='1.3.1.Overview'></a>\n",
    "### 1.3.1. Overview\n",
    "\n",
    "Data pre-processing allows the loss function of a neural network being robust to the small pertubations in the parameter vectors (e.g. weight matrix), and thus help to smoothen the optimization process.\n",
    "\n",
    "There are two popular pre-processing techniques in neural network, which are listed below:\n",
    "\n",
    "<a id='1.3.2.Mean_Subtraction'></a>\n",
    "### 1.3.2. Mean Subtraction\n",
    "\n",
    "- The most common form of data pre-processing. \n",
    "- The mean is subtracted across every individual feature in the data. By doing so, the data could be centered around the origin along every dimension.\n",
    "- For numeric data, the mean could be computed by:  ``X_mean = np.mean(X, axis = 0)``. \n",
    "-  For image data, the mean could be computed by: ``X_mean = np.mean(X)``, with the meaning that subtracting a single value from all pixels.\n"
   ]
  },
  {
   "cell_type": "code",
   "execution_count": 3,
   "metadata": {},
   "outputs": [
    {
     "data": {
      "image/png": "[encoded data removed]",
      "text/plain": [
       "<Figure size 1296x576 with 2 Axes>"
      ]
     },
     "metadata": {
      "needs_background": "light"
     },
     "output_type": "display_data"
    }
   ],
   "source": [
    "f,ax = plt.subplots(1,2,figsize=(18,8))\n",
    "\n",
    "def gen_data(n=100):\n",
    "    X = np.arange(100)\n",
    "    delta = np.random.uniform(-10,10, size=(100,))\n",
    "    Y = .4 * X +3 + delta\n",
    "    return X,Y\n",
    "\n",
    "np.random.seed(0)\n",
    "X, Y = gen_data(100)\n",
    "\n",
    "ax[0].scatter(X,Y)\n",
    "ax[0].axhline(0, color='black')\n",
    "ax[0].axvline(0, color='black')\n",
    "ax[0].set_title(\"Data before Mean Subtraction\")\n",
    "ax[0].set_ylim(-100,100)\n",
    "ax[0].set_xlim(-100,100)\n",
    "\n",
    "\n",
    "X_mean = np.mean(X,axis=0)\n",
    "X = X-X_mean\n",
    "Y_mean = np.mean(Y,axis=0)\n",
    "Y = Y-Y_mean\n",
    "ax[1].scatter(X,Y)\n",
    "ax[1].axhline(0, color='black')\n",
    "ax[1].axvline(0, color='black')\n",
    "ax[1].set_title(\"Data after Mean Subtraction\")\n",
    "ax[1].set_ylim(-100,100)\n",
    "ax[1].set_xlim(-100,100)\n",
    "\n",
    "plt.show()"
   ]
  },
  {
   "cell_type": "markdown",
   "metadata": {},
   "source": [
    "<a id='1.3.3.Normalization'></a>\n",
    "### 1.3.3. Normalization\n",
    "- A way used to reconstruct the data so that they are of approximately the same scale.\n",
    "- Two common methods to normalize the data:\n",
    " - **Method 1:** After the data has been zero-centered (i.e. after performing mean subtraction), each dimension of the data is divided by its standard deviation. The standard deviation could be obtained through: `X_std =  np.std(X, axis = 0)`.\n",
    " - **Method 2:** The min and max along the dimensions are reconstructed so that they are within certain range. For example:\n",
    "    - Set the range between -1 to 1 to obtain a zero-centered data.\n",
    "    - Set the range between 0 to 1 if zero-centered is not a concern.\n",
    "- Normalization is performed only when the input features have different scales and this is common in numeric data. For image data, the pixels have approximately same scale, hence this step is not necessary."
   ]
  },
  {
   "cell_type": "code",
   "execution_count": 4,
   "metadata": {},
   "outputs": [
    {
     "data": {
      "image/png": "[encoded data removed]",
      "text/plain": [
       "<Figure size 1296x360 with 3 Axes>"
      ]
     },
     "metadata": {
      "needs_background": "light"
     },
     "output_type": "display_data"
    }
   ],
   "source": [
    "f,ax = plt.subplots(1,3,figsize=(18,5))\n",
    "\n",
    "np.random.seed(0)\n",
    "X, Y = gen_data(100)\n",
    "\n",
    "ax[0].scatter(X,Y)\n",
    "ax[0].axhline(0, color='black')\n",
    "ax[0].axvline(0, color='black')\n",
    "ax[0].set_title(\"Data before Normalization\")\n",
    "ax[0].set_ylim(-100,100)\n",
    "ax[0].set_xlim(-100,100)\n",
    "\n",
    "X_mean = np.mean(X,axis=0)\n",
    "X_std = np.std(X, axis = 0)\n",
    "X = (X-X_mean)/X_std\n",
    "\n",
    "Y_mean = np.mean(Y,axis=0)\n",
    "Y_std = np.std(Y, axis = 0)\n",
    "Y = (Y-Y_mean)/Y_std\n",
    "\n",
    "ax[1].scatter(X,Y)\n",
    "ax[1].axhline(0, color='black')\n",
    "ax[1].axvline(0, color='black')\n",
    "ax[1].set_ylim(-100,100)\n",
    "ax[1].set_xlim(-100,100)\n",
    "ax[1].set_title(\"Data after Normalization Method 1\")\n",
    "\n",
    "ax[2].scatter(X,Y)\n",
    "ax[2].axhline(0, color='black')\n",
    "ax[2].axvline(0, color='black')\n",
    "ax[2].set_ylim(-4,4)\n",
    "ax[2].set_xlim(-4,4)\n",
    "ax[2].set_title(\"Data after Normalization Method 1 (Zoom)\")\n",
    "\n",
    "\n",
    "plt.show()"
   ]
  },
  {
   "cell_type": "code",
   "execution_count": 5,
   "metadata": {
    "scrolled": true
   },
   "outputs": [
    {
     "data": {
      "image/png": "[encoded data removed]",
      "text/plain": [
       "<Figure size 1296x360 with 3 Axes>"
      ]
     },
     "metadata": {
      "needs_background": "light"
     },
     "output_type": "display_data"
    }
   ],
   "source": [
    "f,ax = plt.subplots(1,3,figsize=(18,5))\n",
    "\n",
    "def in_range(X,Y,rng):\n",
    "    min_, max_ = rng\n",
    "    min_v = min_\n",
    "    max_v = max_\n",
    "    X_new= (max_v-min_v)/(np.max(X)-np.min(X))*(X-np.max(X))+max_v\n",
    "    Y_new= (max_v-min_v)/(np.max(Y)-np.min(Y))*(Y-np.max(Y))+max_v\n",
    "    return X_new, Y_new\n",
    "\n",
    "np.random.seed(0)\n",
    "X, Y = gen_data(100)\n",
    "\n",
    "ax[0].scatter(X,Y)\n",
    "ax[0].axhline(0, color='black')\n",
    "ax[0].axvline(0, color='black')\n",
    "ax[0].set_ylim(-4,4)\n",
    "ax[0].set_xlim(-4,4)\n",
    "ax[0].set_title(\"Data after Normalization\")\n",
    "\n",
    "# in range -1 to 1\n",
    "X_new, Y_new = in_range(X,Y,[-1,1])\n",
    "\n",
    "ax[1].scatter(X_new,Y_new)\n",
    "ax[1].axhline(0, color='black')\n",
    "ax[1].axvline(0, color='black')\n",
    "ax[1].set_ylim(-4,4)\n",
    "ax[1].set_xlim(-4,4)\n",
    "ax[1].set_title(\"Data after Normalization to -1 and 1\")\n",
    "\n",
    "# in range 0 to 1\n",
    "X_new, Y_new = in_range(X,Y,[0,1])\n",
    "\n",
    "ax[2].scatter(X_new,Y_new)\n",
    "ax[2].axhline(0, color='black')\n",
    "ax[2].axvline(0, color='black')\n",
    "ax[2].set_ylim(-4,4)\n",
    "ax[2].set_xlim(-4,4)\n",
    "ax[2].set_title(\"Data after Normalization to 0 and 1\")\n",
    "\n",
    "plt.show()"
   ]
  },
  {
   "cell_type": "markdown",
   "metadata": {},
   "source": [
    "Click here to go back [Table of Content](#Table_of_Content)."
   ]
  },
  {
   "cell_type": "markdown",
   "metadata": {},
   "source": [
    "<a id='2.Activation_Function'></a>\n",
    "\n",
    "# 2. Activation Function\n",
    "\n",
    "<a id='2.1.Overview'></a>\n",
    "## 2.1. Overview\n",
    "\n",
    "Activation function is the important element in neural network. The activation function provides non-linear transformation over the input signal.\n",
    "\n",
    "$$Y=Activation(\\sum(weight*input)+bias)$$\n",
    "\n",
    "### Can we do neural networks without an activation function?\n",
    "\n",
    "Without an activation function, the weights and bias would just perform simple linear transformation, and hence introduce the limitations to solve the complex problems. In shorts, without an activation function, neural network is essentially just a linear regression model. \n",
    "\n",
    "<a id='2.2.Examples_of'></a>\n",
    "## 2.2. Examples of activation functions\n",
    "\n",
    "<a id='2.2.1.Sigmoid'></a>\n",
    "### 2.2.1. Sigmoid\n",
    "$$sigmoid(x)=\\frac{1}{(1+e^{-x})}$$\n",
    "\n",
    "\n",
    "- Sigmoid receives a number and “squashes” it into range [0,1].\n",
    "- Sigmoid turns large negative numbers to near to 0 and and large positive numbers to near to 1.\n",
    "- Less popular nowadays.\n",
    "\n",
    "<img src=\"images/Sigmoid_function.png\" width='400px'>\n",
    "\n",
    "**Disadvantage:**\n",
    "\n",
    "- Sigmoid would saturate and kill gradients.\n",
    "\n",
    "    - Sigmoid function causes the neuron's activation saturates when it comes to the tail of 0 or 1, resulting the gradient to be almost zero. This incurs problem in backpropagation, where this (local) gradient will be multiplied with upstream gradient. If the local gradient is almost zero, the result of backpropagation in this neuron will be almost zero as well, and thus no signal will flow through the neuron to its weights and data.\n",
    "    \n",
    "\n",
    "- Outputs of sigmoid are not zero-centered.\n",
    "\n",
    "    - When the output is not zero-centered, the input receiving by next neuron is not zero-centered as well. Again, this leads to an issue in backpropagation. If the input is always positive, then the gradients on the weights will become either all positive, or all negative, introducing undesirable zig-zagging dynamics during gradient updates for the weights."
   ]
  },
  {
   "cell_type": "code",
   "execution_count": 6,
   "metadata": {},
   "outputs": [
    {
     "name": "stdout",
     "output_type": "stream",
     "text": [
      "z value :\n",
      "[[2.74406752 3.57594683 3.01381688]\n",
      " [2.72441591 2.118274   3.22947057]]\n",
      "activated :\n",
      "[[0.93957743 0.97277314 0.95319444]\n",
      " [0.93845209 0.89266667 0.96192837]]\n",
      "gradient :\n",
      "[[0.05677168 0.02648556 0.0446148 ]\n",
      " [0.05775976 0.09581289 0.03662218]]\n"
     ]
    }
   ],
   "source": [
    "def sigmoid(x):\n",
    "    return (1 / (1 + np.exp(-x)))\n",
    "  \n",
    "#gradient of sigmoid\n",
    "def d_sigmoid(x):\n",
    "    return (sigmoid(x) * (1-sigmoid(x)))\n",
    "\n",
    "#assume z=x*w+b\n",
    "np.random.seed(0)\n",
    "z_large = np.random.rand(2,3) * 5\n",
    "print('z value :')\n",
    "print(z_large)\n",
    "\n",
    "a_large = sigmoid(z_large)\n",
    "print('activated :')\n",
    "print(a_large)\n",
    "\n",
    "#gradient of a_large\n",
    "d_a_large = d_sigmoid(z_large)\n",
    "print('gradient :')\n",
    "print(d_a_large)"
   ]
  },
  {
   "cell_type": "markdown",
   "metadata": {},
   "source": [
    "<a id='2.2.2.Tanh'></a>\n",
    "### 2.2.2. Tanh\n",
    "\n",
    "$$tanh(x)=\\frac{2}{(1+e^{-2x})} -1$$\n",
    "\n",
    "- Tanh is a scaled version of sigmoid function with symmetric over the origin and range between [-1,1]. Except for this, Tanh carries the same properties as Sigmoid function.\n",
    "\n",
    "<img src=\"images/Tanh_function.png\" width='400px'>\n",
    "\n",
    "** Advantage: **\n",
    "\n",
    "- Outputs of tanh are zero-centered.\n",
    "\n",
    "    - So the gradients of weights would not to be of the same sign. \n",
    "    \n",
    "** Disadvantage: **\n",
    "- Tanh would saturate and kill gradients, same with sigmoid."
   ]
  },
  {
   "cell_type": "code",
   "execution_count": 7,
   "metadata": {},
   "outputs": [
    {
     "name": "stdout",
     "output_type": "stream",
     "text": [
      "z value :\n",
      "[[  8.12172682  -3.05878207  -2.64085876]\n",
      " [ -5.36484311   4.32703815 -11.50769348]]\n",
      "activated :\n",
      "[[ 0.99999982 -0.99560206 -0.98988404]\n",
      " [-0.99995623  0.99965123 -1.        ]]\n",
      "gradient :\n",
      "[[3.52872353e-07 8.77654409e-03 2.01295823e-02]\n",
      " [8.75381700e-05 6.97414432e-04 4.04207556e-10]]\n"
     ]
    }
   ],
   "source": [
    "def tanh(x):\n",
    "    return (2 / (1 + np.exp(-(2*x)))-1)\n",
    "\n",
    "def d_tanh(x):\n",
    "    return (1-(tanh(x)**2))\n",
    "\n",
    "#assume z=x*w+b\n",
    "np.random.seed(1)\n",
    "z_large = np.random.randn(2,3) * 5\n",
    "print('z value :')\n",
    "print(z_large)\n",
    "\n",
    "a_large = tanh(z_large)\n",
    "print('activated :')\n",
    "print(a_large)\n",
    "\n",
    "#gradient of a_large\n",
    "d_a_large = d_tanh(z_large)\n",
    "print('gradient :')\n",
    "print(d_a_large)"
   ]
  },
  {
   "cell_type": "markdown",
   "metadata": {},
   "source": [
    "<a id='2.2.3.ReLU'></a>\n",
    "### 2.2.3. ReLU\n",
    "\n",
    "Rectified Linear Unit\n",
    "\n",
    "$$ReLU=max(0,x)$$\n",
    "\n",
    "ReLU allows all positive values pass through unchanged, but defines 0 from any negative values.\n",
    "\n",
    "<img src=\"images/ReLU_function.png\" width='400px'>\n",
    "\n",
    "**Advantage:**\n",
    "\n",
    "- Simplicity and efficiency.\n",
    "    - ReLU has linear, non-saturating form. Hence, it is faster during the convergence of gradient descent.\n",
    "- Relatively robust to the vanishing/exploding gradient issue.\n",
    "\n",
    "**Disadvantage:** \n",
    "\n",
    "- The gradient of negative side of the graph is still zero.\n",
    "    - The weights in this region are not updated during backpropagation. Hence, dead neurons which never get activated would be created. "
   ]
  },
  {
   "cell_type": "code",
   "execution_count": 8,
   "metadata": {},
   "outputs": [
    {
     "name": "stdout",
     "output_type": "stream",
     "text": [
      "z value :\n",
      "[[  8.12172682  -3.05878207  -2.64085876]\n",
      " [ -5.36484311   4.32703815 -11.50769348]]\n",
      "activated :\n",
      "[[ 8.12172682 -0.         -0.        ]\n",
      " [-0.          4.32703815 -0.        ]]\n",
      "gradient :\n",
      "[[1. 0. 0.]\n",
      " [0. 1. 0.]]\n"
     ]
    }
   ],
   "source": [
    "def ReLU(x):\n",
    "    return x * (x > 0)\n",
    "\n",
    "def d_ReLU(x):\n",
    "    return 1. * (x > 0)\n",
    "  \n",
    "#assume z=x*w+b\n",
    "np.random.seed(1)\n",
    "z_large = np.random.randn(2,3) * 5\n",
    "print('z value :')\n",
    "print(z_large)\n",
    "\n",
    "a_large = ReLU(z_large)\n",
    "print('activated :')\n",
    "print(a_large)\n",
    "\n",
    "#gradient of a_large\n",
    "d_a_large = d_ReLU(z_large)\n",
    "print('gradient :')\n",
    "print(d_a_large)"
   ]
  },
  {
   "cell_type": "markdown",
   "metadata": {},
   "source": [
    "<a id='2.2.4.Leaky_ReLU'></a>\n",
    "\n",
    "### 2.2.4. Leaky ReLU\n",
    "\n",
    "$$ Leaky ReLU = \n",
    "\\begin{cases}\n",
    "  ax & \\text{x<0}  \n",
    "  \\\\x & \\text{x$\\geq$ 0}\n",
    "\\end{cases}$$\n",
    "\n",
    "- Leaky ReLU is an improved version of the ReLU, where it solves the disadvantage of ReLU. Instead of assigning zero to negative values, it defines a small linear component of x (i.e. ax). \n",
    "\n",
    "- By doing so, the horizontal line of negative side from ReLU could be replaced with a non-zero, non-horizontal line.\n",
    "\n",
    "<img src=\"images/Leaky_ReLU_function.png\" width='400px'>\n",
    "\n",
    "**Advantage:**\n",
    "\n",
    "- Zero gradient has been removed.\n",
    "- Relatively robust to the vanishing/exploding gradient issue."
   ]
  },
  {
   "cell_type": "code",
   "execution_count": 9,
   "metadata": {},
   "outputs": [
    {
     "name": "stdout",
     "output_type": "stream",
     "text": [
      "z value :\n",
      "[[  8.12172682  -3.05878207  -2.64085876]\n",
      " [ -5.36484311   4.32703815 -11.50769348]]\n",
      "activated :\n",
      "[[ 8.12172682 -0.03058782 -0.02640859]\n",
      " [-0.05364843  4.32703815 -0.11507693]]\n",
      "gradient :\n",
      "[[1.   0.01 0.01]\n",
      " [0.01 1.   0.01]]\n"
     ]
    }
   ],
   "source": [
    "def leaky_relu(x, alpha=0.01):\n",
    "    return np.where(x >= 0, x, x * alpha)\n",
    "\n",
    "# x input of d_leaky_relu is the output of leaky_relu\n",
    "def d_leaky_relu(x, alpha=0.01):\n",
    "    return np.where(x >= 0, 1, alpha)\n",
    "\n",
    "\n",
    "#assume z=x*w+b\n",
    "np.random.seed(1)\n",
    "z_large = np.random.randn(2,3) * 5\n",
    "print('z value :')\n",
    "print(z_large)\n",
    "\n",
    "a_large = leaky_relu(z_large)\n",
    "print('activated :')\n",
    "print(a_large)\n",
    "\n",
    "#gradient of a_large\n",
    "d_a_large = d_leaky_relu(a_large)\n",
    "print('gradient :')\n",
    "print(d_a_large)"
   ]
  },
  {
   "cell_type": "markdown",
   "metadata": {},
   "source": [
    "<a id='2.2.5.Softmax'></a>\n",
    "\n",
    "### 2.2.5. Softmax\n",
    "\n",
    "\n",
    "$$P(z_i) = \\frac{e^{z_i}}{\\sum_{n=1}^{N}e^{z_n}} \\quad for \\ i = 1,...,N$$\n",
    "\n",
    "where, \n",
    "- $z_{i}$ = $i$th element of $z$ and $z$ is the scores\n",
    "- $\\sum_{n=1}^{N}e^{z_n}$ = summation of all the exponential element of $z$\n",
    "\n",
    "### In classification task, why softmax classifier would be used as output layer of Neural Network?\n",
    "\n",
    "For Neural Network in the classification tasks, the dimension of output layer depends on number of classes it copes with. For instances, there are 10 different classes in MNIST digit recognition task, hence the dimension of output layer would be 10. Ideally, the perfect neural network would assign probability of 1.0 for a single output node, and assign 0.0 to the rest of the output nodes.  \n",
    "\n",
    "In order to do so, Max mechanism, which will provide probability of 1.0 for maximum output of previous layer and consider the probability of rest of output nodes as 0.0, should be adopted as the output layer of Neural Network. However, such output layer will not be differentiable, hence resulting difficulty in training the Neural Network.\n",
    "\n",
    "To solve this issue, Softmax function has been used as the output layer because it works almost similar as Max mechanism and at them same time, it could be differentiable to train by gradient descent."
   ]
  },
  {
   "cell_type": "code",
   "execution_count": 10,
   "metadata": {},
   "outputs": [
    {
     "name": "stdout",
     "output_type": "stream",
     "text": [
      "softmax :\n",
      "[0.65223985 0.23994563 0.10781452]\n"
     ]
    }
   ],
   "source": [
    "def softmax(x):\n",
    "    e_x = np.exp(x - np.max(x)) #For numerical stability\n",
    "    return e_x / e_x.sum(axis=0)\n",
    "\n",
    "scores = [2.0, 1.0, 0.2]\n",
    "\n",
    "print('softmax :')\n",
    "print(softmax(scores))"
   ]
  },
  {
   "cell_type": "markdown",
   "metadata": {},
   "source": [
    "<a id='2.2.5.1.Cross_Entropy_Loss'></a>\n",
    "\n",
    "\n",
    "### 2.2.5.1. Cross Entropy Loss (a.k.a log loss)\n",
    "\n",
    "Softmax function is always in paired with cross entropy loss, to measure the distance between probability of the predicted class with the probability of the actual class. Cross entropy loss ranges **[0,$+\\infty$]** and it increases when the predicted probability diverges from the actual class. A perfect model could have a cross entropy loss of 0. \n",
    "\n",
    "\n",
    "$$L(y,ŷ )=−\\sum_{i=1}^{M}y_ilogŷ_i$$\n",
    "\n",
    "where\n",
    "\n",
    "\n",
    "- $M$ = number of classes\n",
    "- $log$ = the natural log\n",
    "- $y$ = actual class\n",
    "- $ŷ$ = predicted probability \n",
    "\n",
    "Furthermore, with integration with Softmax, we can redefine $L$ as:\n",
    "\n",
    "\\begin{align*}\n",
    "L =& −log(\\frac{e^{z_y}}{\\sum_{n=1}^{N}e^{z_n}}) \\\\\n",
    "=& -z_y+log \\sum_{n=1}^{N}e^{z_n}\n",
    "\\end{align*}\n",
    "\n",
    "\n",
    "\n",
    "where \n",
    "- $z$ = scores\n",
    "- $y$ = index of the actual class\n",
    "\n",
    "<img src=\"images/softmax.png\" width='300px'>"
   ]
  },
  {
   "cell_type": "code",
   "execution_count": 11,
   "metadata": {},
   "outputs": [
    {
     "name": "stdout",
     "output_type": "stream",
     "text": [
      "1.1940535372192058\n"
     ]
    }
   ],
   "source": [
    "def softmax_entropy_loss(X, W, y):\n",
    "    loss = 0.0\n",
    "    dW = np.zeros_like(W)\n",
    "\n",
    "    z = X.dot(W)\n",
    "    z -= np.matrix(np.max(z, axis=1)).T # for numerical stability\n",
    "\n",
    "    # number of sample\n",
    "    N = z.shape[0]\n",
    "\n",
    "    term1 = -z[np.arange(N), y]\n",
    "    sum_exp_n = np.sum(np.exp(z), axis=1)\n",
    "    term2 = np.log(sum_exp_n)\n",
    "    loss = term1 + term2\n",
    "    loss = np.sum(loss) / N\n",
    "\n",
    "    # gradient of softmax entropy loss \n",
    "    coef = np.exp(z) / np.matrix(sum_exp_n).T\n",
    "    coef[np.arange(N),y] -= 1\n",
    "    \n",
    "    # gradient of weight\n",
    "    dW = X.T.dot(coef)\n",
    "    dW /= N\n",
    "\n",
    "\n",
    "    return(loss, dW)\n",
    "\n",
    "z = np.array([\n",
    "    [2.0, 1.0, 0.2],\n",
    "    [1.0, 2.0, 0.5]\n",
    "])\n",
    "\n",
    "X = np.random.rand(2,3)\n",
    "W = np.random.rand(3,3)\n",
    "\n",
    "y = np.array([\n",
    "    [0,1]\n",
    "])\n",
    "\n",
    "loss, grad=softmax_entropy_loss(X, W, y)\n",
    "print(loss)"
   ]
  },
  {
   "cell_type": "markdown",
   "metadata": {},
   "source": [
    "Click here to go back [Table of Content](#Table_of_Content)."
   ]
  },
  {
   "cell_type": "markdown",
   "metadata": {},
   "source": [
    "<a id='3.Batch_Normalization'></a>\n",
    "\n",
    "# 3. Batch Normalization\n",
    "\n",
    "Batch normalization can be explained as doing data normalization at every layer of the network. Batch normalization layer is usually inserted immediately after fully connected layers (or convolutional layers), and before non-linearlity layers. In general, batch normalization is a step used to minimize the internal covariate shift by fixing the means and variances of layer inputs. \n",
    "\n",
    "** Advantage: **\n",
    "\n",
    "- The training of deep neural networks could be accelerated.\n",
    "- Batch normalization reduces the dependence of gradients on their inital values as well as the scale of the parameters, hence allowing higher learning rates to be used without the risk of divergence. \n",
    "- Batch normalization helps in regularizing the model and thus decreases the need for dropout.\n",
    "\n",
    "*Extra: \n",
    "It is known as Batch Normalization because we perform the normalization only for a subset of the entire training set (i.e. a mini batch).*\n",
    "\n",
    "\n",
    "<img src=\"images/batch_normalization.png\" width=\"500\">\n",
    "\n",
    "The last line of algorithm indicates that the normalized $x$ is squashed through a linear function with parameters $\\gamma$ and $\\beta$. These two parameters are trainable parameters with the purpose of transforming (scale and shift) the normalized $x$ into a better distribution, instead of fixing them into the normal Gaussian distribution.\n",
    "\n",
    "On the other hand, if $\\gamma = \\sqrt{\\sigma^2_x}$ and $\\beta = \\bar{x}$ , the original raw input $x$ would be returned. Hence, it allows the flexibility for us to retrieve back the original representation of $x$."
   ]
  },
  {
   "cell_type": "code",
   "execution_count": 12,
   "metadata": {},
   "outputs": [],
   "source": [
    "def batchnorm_forward(X, gamma, beta):\n",
    "    \n",
    "    # compute the mini-batch mean\n",
    "    x_mu = np.mean(X, axis=0)\n",
    "    \n",
    "    # compute the mini-batch variance\n",
    "    x_var = np.var(X, axis=0)\n",
    "    \n",
    "    # create epsilon variable\n",
    "    epsilon = 1e-8\n",
    "    \n",
    "    # create inverse variance\n",
    "    inv_var = 1/np.sqrt(x_var + epsilon)\n",
    "\n",
    "    # normalize X to create x_hat\n",
    "    x_hat = (X - x_mu) * inv_var\n",
    "    \n",
    "    # scale and shift\n",
    "    out = gamma * x_hat + beta\n",
    "\n",
    "    # for the use of backward propagation\n",
    "    cache = (x_mu, inv_var, x_hat, gamma)\n",
    "\n",
    "    return out, cache, x_mu, x_var\n",
    "  \n",
    "def batchnorm_backward(dout, cache):\n",
    "\n",
    "    N, D = dout.shape\n",
    "    x_mu, inv_var, x_hat, gamma = cache\n",
    "\n",
    "    dxhat = dout * gamma\n",
    "\n",
    "    dx = (1. / N) * inv_var * (N*dxhat - np.sum(dxhat, axis=0) - x_hat*np.sum(dxhat*x_hat, axis=0))\n",
    "    dbeta = np.sum(dout, axis=0)\n",
    "    dgamma = np.sum(x_hat*dout, axis=0)\n",
    "\n",
    "    return dx, dgamma, dbeta"
   ]
  },
  {
   "cell_type": "code",
   "execution_count": 13,
   "metadata": {},
   "outputs": [],
   "source": [
    "def gradient_check(f, x, df, h=1e-5):\n",
    "    grad = np.zeros_like(x)\n",
    "    it = np.nditer(x, flags=['multi_index'], op_flags=['readwrite'])\n",
    "    while not it.finished:\n",
    "        ix = it.multi_index\n",
    "    \n",
    "        oldval = x[ix]\n",
    "        x[ix] = oldval + h\n",
    "        pos = f(x).copy()\n",
    "        x[ix] = oldval - h\n",
    "        neg = f(x).copy()\n",
    "        x[ix] = oldval\n",
    "    \n",
    "        grad[ix] = np.sum((pos - neg) * df) / (2 * h)\n",
    "        it.iternext()\n",
    "    return grad\n",
    "\n",
    "def rel_error(x, y):\n",
    "    return np.max(np.abs(x - y) / (np.maximum(1e-8, np.abs(x) + np.abs(y))))"
   ]
  },
  {
   "cell_type": "code",
   "execution_count": 14,
   "metadata": {},
   "outputs": [
    {
     "name": "stdout",
     "output_type": "stream",
     "text": [
      "dx error:  7.851664442011559e-10\n",
      "dgamma error:  1.0927281909015325e-11\n",
      "dbeta error:  7.151756544846452e-11\n"
     ]
    }
   ],
   "source": [
    "# Gradient check batchnorm backward pass\n",
    "\n",
    "N, D = 4, 5\n",
    "x = 5 * np.random.randn(N, D) + 12\n",
    "gamma = np.random.randn(D)\n",
    "beta = np.random.randn(D)\n",
    "dout = np.random.randn(N, D)\n",
    "\n",
    "fx = lambda x: batchnorm_forward(x, gamma, beta)[0]\n",
    "fg = lambda g: batchnorm_forward(x, g, beta)[0]\n",
    "fb = lambda b: batchnorm_forward(x, gamma, b)[0]\n",
    "\n",
    "dx_num = gradient_check(fx, x, dout)\n",
    "da_num = gradient_check(fg, gamma, dout)\n",
    "db_num = gradient_check(fb, beta, dout)\n",
    "\n",
    "_, cache, _, _ = batchnorm_forward(x, gamma, beta)\n",
    "dx, dgamma, dbeta = batchnorm_backward(dout, cache)\n",
    "print ('dx error: ', rel_error(dx_num, dx))\n",
    "print ('dgamma error: ', rel_error(da_num, dgamma))\n",
    "print ('dbeta error: ', rel_error(db_num, dbeta))"
   ]
  },
  {
   "cell_type": "code",
   "execution_count": 15,
   "metadata": {},
   "outputs": [
    {
     "data": {
      "text/plain": [
       "Text(0.5, 1.0, 'Normalized ReLu Activation Distribution (gamma=1, beta=2)')"
      ]
     },
     "execution_count": 15,
     "metadata": {},
     "output_type": "execute_result"
    },
    {
     "data": {
      "image/png": "[encoded data removed]",
      "text/plain": [
       "<Figure size 1296x720 with 9 Axes>"
      ]
     },
     "metadata": {
      "needs_background": "light"
     },
     "output_type": "display_data"
    }
   ],
   "source": [
    "z = np.random.uniform(-5,5,1000)\n",
    "z_sigmoid = sigmoid(z)\n",
    "z_tanh = tanh(z)\n",
    "z_relu = ReLU(z)\n",
    "\n",
    "gamma = 1\n",
    "beta = 0\n",
    "\n",
    "#normalize z scores\n",
    "output, cache, mu, var = batchnorm_forward(z, gamma, beta)\n",
    "\n",
    "nz_sigmoid = sigmoid(output)\n",
    "nz_tanh = tanh(output)\n",
    "nz_relu = ReLU(output)\n",
    "\n",
    "fig, axs = plt.subplots(3, 3, sharex=False,figsize=(18,10))\n",
    "\n",
    "axs[0,0].hist(z_sigmoid, bins=50)\n",
    "axs[0,0].set_title(\"Sigmoid Activation Distribution\")\n",
    "axs[1,0].hist(z_tanh, bins=50)\n",
    "axs[1,0].set_title(\"Tanh Activation Distribution\")\n",
    "axs[2,0].hist(z_relu, bins=50)\n",
    "axs[2,0].set_title(\"ReLu Activation Distribution\")\n",
    "\n",
    "axs[0,1].hist(nz_sigmoid, bins=50)\n",
    "axs[0,1].set_title(\"Normalized Sigmoid Activation Distribution (gamma=1, beta=0)\")\n",
    "axs[1,1].hist(nz_tanh, bins=50)\n",
    "axs[1,1].set_title(\"Normalized Tanh Activation Distribution (gamma=1, beta=0)\")\n",
    "axs[2,1].hist(nz_relu, bins=50)\n",
    "axs[2,1].set_title(\"Normalized ReLu Activation Distribution (gamma=1, beta=0)\")\n",
    "\n",
    "gamma = 1\n",
    "beta = 2\n",
    "output2, cache, mu, var = batchnorm_forward(z, gamma, beta)\n",
    "nz_sigmoid2 = sigmoid(output2)\n",
    "nz_tanh2 = tanh(output2)\n",
    "nz_relu2 = ReLU(output2)\n",
    "axs[0,2].hist(nz_sigmoid2, bins=50)\n",
    "axs[0,2].set_title(\"Normalized Sigmoid Activation Distribution (gamma=1, beta=2)\")\n",
    "axs[1,2].hist(nz_tanh2, bins=50)\n",
    "axs[1,2].set_title(\"Normalized Tanh Activation Distribution (gamma=1, beta=2)\")\n",
    "axs[2,2].hist(nz_relu2, bins=50)\n",
    "axs[2,2].set_title(\"Normalized ReLu Activation Distribution (gamma=1, beta=2)\")"
   ]
  },
  {
   "cell_type": "markdown",
   "metadata": {},
   "source": [
    "Click here to go back [Table of Content](#Table_of_Content)."
   ]
  },
  {
   "cell_type": "markdown",
   "metadata": {},
   "source": [
    "<a id='4.Dropout_Regularization'></a>\n",
    "\n",
    "#  4. Dropout Regularization\n",
    "\n",
    "<a id='4.1.Overview'></a>\n",
    "\n",
    "## 4.1. Overview\n",
    "\n",
    "Overfitting occurs when the neural network does not generalize well from the training data to unseen data.\n",
    "\n",
    "Generally, overfitting is the scenario when the neural network is able to achieve 99% accuracy on the original dataset (i.e. training accuracy) but only able to achieve 50% accuracy on unseen data (i.e. validation accuracy).\n",
    "\n",
    "In neural networks, a fully connected layer consists of many parameters, and these neurons would develop co-dependency amongst each other, leading to overfitting issue. Thus, in order to reduce the interdependent learning amoungst the neurons, dropout technique is Introduced. Basically, dropout works by removing some neurons (by setting it to zero) during the training phase with some probability $p$ (hyperparameter).\n",
    "\n",
    "<img src=\"images/dropout.png\" width=\"500\">\n",
    "\n",
    "- **Training Phase:**\n",
    "\n",
    " - Drop a random fraction of nodes with the probability of $p$ (and their respective activations) as well as scaling with the probability of $p$ for each hidden layer, each training sample as well as each iteration.\n",
    "\n",
    "- **Testing Phase:**\n",
    "\n",
    " - The neurons remain untouched."
   ]
  },
  {
   "cell_type": "code",
   "execution_count": 16,
   "metadata": {},
   "outputs": [],
   "source": [
    "def dropout_forward(X, params):\n",
    "    p, mode = params['p'], params['mode']\n",
    "    mask = None\n",
    "    out = None\n",
    "\n",
    "    if mode == 'train':\n",
    "        mask = (np.random.rand(*x.shape) < p) / p #inverted dropout\n",
    "        out = X * mask\n",
    "\n",
    "    elif mode == 'test':\n",
    "        mask = None\n",
    "        out = X\n",
    "\n",
    "    cache = (params, mask)\n",
    "    out = out.astype(x.dtype, copy=False)\n",
    "\n",
    "    return out, cache\n",
    "\n",
    "\n",
    "def dropout_backward(dout, cache):\n",
    "    params, mask = cache\n",
    "    mode = params['mode']\n",
    "\n",
    "    dx = None\n",
    "    if mode == 'train':\n",
    "        dx = dout * mask\n",
    "\n",
    "    elif mode == 'test':\n",
    "        dx = dout\n",
    "    return dx"
   ]
  },
  {
   "cell_type": "code",
   "execution_count": 17,
   "metadata": {},
   "outputs": [
    {
     "name": "stdout",
     "output_type": "stream",
     "text": [
      "[[ 1.76405235  0.40015721  0.97873798  2.2408932   1.86755799]\n",
      " [-0.97727788  0.95008842 -0.15135721 -0.10321885  0.4105985 ]\n",
      " [ 0.14404357  1.45427351  0.76103773  0.12167502  0.44386323]\n",
      " [ 0.33367433  1.49407907 -0.20515826  0.3130677  -0.85409574]\n",
      " [-2.55298982  0.6536186   0.8644362  -0.74216502  2.26975462]]\n",
      "\n",
      "After Dropout: \n",
      "[[ 3.52810469  0.          0.          0.          0.        ]\n",
      " [-0.          1.90017684 -0.30271442 -0.          0.821197  ]\n",
      " [ 0.          0.          1.52207545  0.24335003  0.88772647]\n",
      " [ 0.66734865  0.         -0.41031653  0.         -1.70819148]\n",
      " [-5.10597963  1.30723719  0.         -1.48433004  4.53950925]]\n"
     ]
    }
   ],
   "source": [
    "np.random.seed(0)\n",
    "x = np.random.randn(5,5)\n",
    "params ={\n",
    "    'p': 0.5,\n",
    "    'mode': 'train'\n",
    "}\n",
    "print(x)\n",
    "print(\"\")\n",
    "\n",
    "output = dropout_forward(x, params)[0]\n",
    "print(\"After Dropout: \")\n",
    "print(output)"
   ]
  },
  {
   "cell_type": "markdown",
   "metadata": {},
   "source": [
    "Click here to go back [Table of Content](#Table_of_Content)."
   ]
  },
  {
   "cell_type": "markdown",
   "metadata": {},
   "source": [
    "<a id='5.Optimization'></a>\n",
    "\n",
    "# 5. Optimization (Parameter Updates)\n",
    "\n",
    "\n",
    "<a id='5.1.Stochastic_Gradient_Descent'></a>\n",
    "## 5.1. Stochastic Gradient Descent (SGD)\n",
    "\n",
    "The process is similar to gradient descent. However, each parameter update in SGD is computed with a random training sample or minibatch. The data in minibatch must be shuffled prior to each epoch of training to prevent causing bias to the gradient and lead to poor convergence. A typical minibatch size is 256, but the optimal size could vary for different applications and architectures.\n",
    "\n",
    "\n",
    "The learning rate $\\alpha$ is typically much smaller than $\\alpha$ used in gradient descent. One standard method is to use a small enough constant learning rate that gives stable convergence in the first few epochs and then halve the  $\\alpha$ as convergence slows down.\n",
    "\n",
    "The SGD process could be interpreted as: \n",
    "\n",
    "$$x += - \\alpha*\\partial{x}$$ \n",
    "\n",
    "    where \n",
    " - $x$ = new position to be stepped \n",
    " - $\\alpha$ = learning rate\n",
    " - $\\partial{x}$ = computed gradient\n",
    " \n",
    "*Note: The SGD process is performed during epochs of training.*\n",
    "\n",
    "**Advantage:**\n",
    "- The variance in the parameter update could be reduced efficiently with minibatch and thus lead to a more stable convergence.\n",
    "- The computational time could be speeden up as each time only minibatch is being processed.\n",
    " \n",
    "**Disadvantage:**\n",
    "\n",
    " - SGD has a very slow progress along shallow (horizontal) dimension, and will jitter along steep (vertical) dimension with cost function that is shaped like \"taco shell\", causing it to has an unfavourable 'zig-zagging' property. As a result, SGD leads to very slow convergence particularly after first few epochs of training.\n",
    "\n",
    "\n",
    "<a id='5.2.SGD_Momentum'></a>\n",
    "## 5.2. SGD + Momentum\n",
    "\n",
    "Due to the disadvantage mentioned above, momentum is introduced to work with SGD to allow faster convergence happens. \n",
    "\n",
    "<img src=\"images/SGD_Momentum.png\" width=\"300\">\n",
    "\n",
    "$$ v = \\rho * v - \\alpha * \\partial{x} $$\n",
    "$$ x += v $$\n",
    "\n",
    "    where \n",
    " - $v$ = velocity (initialized as 0)\n",
    " - $\\rho$ = momentum (default value = 0.9/0.99)\n",
    " \n",
    "The first step is used to update the velocity, whereas the second step is used to update the position.\n",
    "\n",
    "With Momentum update, the velocity would still has value even $\\partial{x} = 0$. Hence, the parameter vector will build up velocity in any direction that has consistent gradient.\n",
    "\n",
    "<a id='5.3.SGD_Nesterov_Momentum'></a>\n",
    "## 5.3. SGD + Nesterov Momentum\n",
    "\n",
    "Nesterov Momentum has recently been gaining popularity due to its superior performance over standard Momentum. The main concept of Nesterov Momentum is that the gradient is computed from the \"lookahead\" future approximate position (i.e. $x+\\rho*v$), instead of computing the gradient from the old state of $x$.\n",
    "\n",
    "<img src=\"images/SGD_Nesterov_Momentum.png\" width=\"300\">\n",
    "\n",
    "$$x_{ahead} = x + \\rho * v$$\n",
    "$$v = \\rho * v - \\alpha * \\partial{x_{ahead}}$$\n",
    "$$x += v$$\n",
    "\n",
    "However, people prefer to express the update to look as similar to standard Momentum update as possible in practice. Hence, the SGD + Nesterov Momentum could also be expressed as:\n",
    "\n",
    "$$v_{prev} = v $$\n",
    "$$v = \\rho * v - \\alpha * \\partial{x}$$ \n",
    "$$x += -\\rho * v_{prev} + (1 + \\rho) * v $$\n",
    "\n",
    "The velocity update in Nesterov Momentum stays the same as standard Momentum, but the position update is different.\n",
    "\n",
    "<a id='5.4.Adagrad'></a>\n",
    "## 5.4. Adagrad \n",
    "\n",
    "Adagrad performs smaller updates (i.e. using low learning rates) for parameters associated with frequently occuring features. On the other hand, it performs larger updates (i.e. using high learning rates) for parameters associated with infrequent features. In order to achieve this, Adagrad modulates the learning rate of each weight based on the magnitudes of its gradients. With this property, Adagrad is suitable for dealing with sparse data. The Adagrad process is performed as below:\n",
    "\n",
    "\n",
    "\n",
    "$$ cache += (\\partial{x})^2 $$\n",
    "$$x +=- \\frac{\\alpha * \\partial{x}}{\\sqrt{cache} + \\epsilon}$$\n",
    "\n",
    "    where \n",
    " - $\\epsilon$ = Smoothing term to avoid division by zero (range from $1e^{-4}$ to $1e^{-8}$)\n",
    "\n",
    "**Disadvantage:**\n",
    "\n",
    "  - The monotonic learning rate usually proves too agreesive and stops learning too early in case of Deep Learning.\n",
    "\n",
    "\n",
    "<a id='5.5.RMSProp'></a>\n",
    "## 5.5. RMSProp\n",
    "\n",
    "RMSProp is proposed to solve the shortcoming of Adagrad by reducing its agressive, monotonically decreasing learning rate. \n",
    "\n",
    "$$cache = decay* cache + (1 - decay) * (\\partial{x})^2$$\n",
    "$$x += - \\frac{\\alpha * \\partial{x}} {\\sqrt{cache }+ \\epsilon}$$\n",
    "\n",
    "    where \n",
    " - $decay$ = decay rate (default value = 0.9/0.99/0.999)\n",
    "\n",
    "The position update in second step is identical to Adagrad, but the cache variable is \"leaky\". Hence, the learning rate update does not get monotonically smaller.\n",
    "\n",
    "<a id='5.6.Adam'></a>\n",
    "## 5.6. Adaptive Moment Estimation (Adam)\n",
    "\n",
    "\n",
    "Adam could be viewed as the combination of RMSProp with Momentum. Adam is recommended in practice as the default algorithm to use, and could work slightly better than RMSProp. However, SGD+Nesterov Momentum is recommended as an alternative.\n",
    "\n",
    "\n",
    "The simplified version could be explained as:\n",
    "\n",
    "$$m = \\beta_1*m + (1-\\beta_1)*\\partial{x}$$\n",
    "$$v = \\beta_2*v + (1-\\beta_2)*(\\partial{x})^2$$\n",
    "$$x += - \\frac{\\alpha * m}{\\sqrt{v }+ \\epsilon}$$\n",
    "\n",
    "    where \n",
    " - $\\epsilon$ = Smoothing term to avoid division by zero (default value = $1e^{-8}$)\n",
    " - $\\beta_1$: default value = 0.9\n",
    " - $\\beta_2$: default value = 0.999\n",
    " - $\\alpha$= learning rate (default value = $1e^{-3}$ or $5e^{-4}$)\n",
    "\n",
    "The update looks similar as RMSProp, except that the \"smooth\" version of the gradient $m$ that could possibly remove the noise from raw $\\partial{x}$ is used in the numerator.\n",
    "\n",
    "The full version of Adam adds a bias correction mechanism on the simplified version listed above. The bias correction mechanism is introduced to avoid the problem of taking very large staps in the first few epochs.\n",
    "\n",
    "With the bias correction mechanism, the update looks as follows:\n",
    "\n",
    "$$m = \\beta_1*m + (1-\\beta_1)*\\partial{x}$$\n",
    "$$mt = \\frac{m}{1-\\beta_1^t}$$\n",
    "$$v = \\beta_2*v + (1-\\beta_2)*(\\partial{x})^2$$\n",
    "$$vt = \\frac{v}{1-\\beta_2^t}$$\n",
    "$$x += - \\frac{\\alpha * mt}{\\sqrt{vt }+ \\epsilon}$$\n",
    "\n",
    "where, \n",
    "$t$ = number of epochs\n",
    " \n",
    " \n",
    "Click here to go back [Table of Content](#Table_of_Content)."
   ]
  },
  {
   "cell_type": "markdown",
   "metadata": {},
   "source": [
    "<a id='6.Use_Case'></a>\n",
    "\n",
    "# 6. CIFAR-10 dataset\n",
    "The CIFAR-10 dataset consists of 60000 32x32 colour images in 10 classes, with 6000 images per class. There are 50000 training images and 10000 test images. \n",
    "\n",
    "<img src=\"images/cifar.png\" width=\"500\">"
   ]
  },
  {
   "cell_type": "code",
   "execution_count": 18,
   "metadata": {},
   "outputs": [],
   "source": [
    "import data_utils\n",
    "import numpy as np\n",
    "import matplotlib.pyplot as plt\n"
   ]
  },
  {
   "cell_type": "code",
   "execution_count": 19,
   "metadata": {
    "scrolled": true
   },
   "outputs": [],
   "source": [
    "#download data\n",
    "# !bash ./data/get_datasets.sh"
   ]
  },
  {
   "cell_type": "code",
   "execution_count": 20,
   "metadata": {},
   "outputs": [
    {
     "data": {
      "image/png": "[encoded data removed]",
      "text/plain": [
       "<Figure size 432x432 with 25 Axes>"
      ]
     },
     "metadata": {
      "needs_background": "light"
     },
     "output_type": "display_data"
    }
   ],
   "source": [
    "# Visualize CIFAR10 data\n",
    "cifar_data,_=data_utils.load_CIFAR_batch('./data/cifar-10-batches-py/data_batch_1')\n",
    "\n",
    "cifar_data = cifar_data.astype('uint8')\n",
    "fig, axes1 = plt.subplots(5,5,figsize=(6,6))\n",
    "for j in range(5):\n",
    "    for k in range(5):\n",
    "        i = np.random.choice(range(len(cifar_data)))\n",
    "        axes1[j][k].set_axis_off()\n",
    "        axes1[j][k].imshow(cifar_data[i])"
   ]
  },
  {
   "cell_type": "code",
   "execution_count": 21,
   "metadata": {},
   "outputs": [
    {
     "data": {
      "text/plain": [
       "((48000, 3072), (48000,))"
      ]
     },
     "execution_count": 21,
     "metadata": {},
     "output_type": "execute_result"
    }
   ],
   "source": [
    "cifar = data_utils.get_CIFAR10_data(subtract_mean=True)\n",
    "\n",
    "X_train = cifar['X_train'].reshape([cifar['X_train'].shape[0],-1])\n",
    "y_train = cifar['y_train']\n",
    "X_val = cifar['X_val'].reshape([cifar['X_val'].shape[0],-1])\n",
    "y_val = cifar['y_val']\n",
    "X_test = cifar['X_test'].reshape([cifar['X_test'].shape[0],-1])\n",
    "y_test = cifar['y_test']\n",
    "\n",
    "X_train.shape, y_train.shape"
   ]
  },
  {
   "cell_type": "code",
   "execution_count": 22,
   "metadata": {},
   "outputs": [
    {
     "data": {
      "text/plain": [
       "(48000, 3, 32, 32)"
      ]
     },
     "execution_count": 22,
     "metadata": {},
     "output_type": "execute_result"
    }
   ],
   "source": [
    "cifar['X_train'].shape"
   ]
  },
  {
   "cell_type": "code",
   "execution_count": 23,
   "metadata": {},
   "outputs": [
    {
     "data": {
      "text/plain": [
       "(3072,)"
      ]
     },
     "execution_count": 23,
     "metadata": {},
     "output_type": "execute_result"
    }
   ],
   "source": [
    "X_train[6].shape"
   ]
  },
  {
   "cell_type": "code",
   "execution_count": 24,
   "metadata": {},
   "outputs": [
    {
     "name": "stdout",
     "output_type": "stream",
     "text": [
      "dx error:  1.4114380472145635e-10\n",
      "dw error:  5.555794306877853e-12\n",
      "db error:  3.987454576543975e-11\n"
     ]
    }
   ],
   "source": [
    "# Layers\n",
    "def linear_forward(x, w, b):\n",
    "    out = np.dot(x, w) + b\n",
    "    cache = (x, w, b)\n",
    "    return out, cache\n",
    "  \n",
    "def linear_backward(dout, cache):\n",
    "    x, w, b = cache\n",
    "    dx = np.dot(dout, w.T)\n",
    "    dw = np.dot(x.T, dout)\n",
    "    db = np.sum(dout, axis=0)\n",
    "    return dx, dw, db\n",
    "  \n",
    "def ReLU_forward(x):\n",
    "    output = x * (x > 0)\n",
    "    cache = x\n",
    "    return output, cache\n",
    "\n",
    "def ReLU_backward(dout, cache):\n",
    "    x = cache\n",
    "    drelu = 1. * (x > 0)\n",
    "    dx = drelu * dout \n",
    "    return dx\n",
    "\n",
    "def softmax_entropy_loss(X, W, b, y):\n",
    "    loss = 0.0\n",
    "    dW = np.zeros_like(W)\n",
    "    dX = np.zeros_like(X)\n",
    "    db = np.zeros_like(b)\n",
    "\n",
    "    z = X.dot(W) + b\n",
    "    z -= np.matrix(np.max(z, axis=1)).T # for numerical stability\n",
    "\n",
    "    N = z.shape[0]\n",
    "\n",
    "    term1 = -z[np.arange(N), y]\n",
    "    sum_exp_n = np.sum(np.exp(z), axis=1)\n",
    "    term2 = np.log(sum_exp_n)\n",
    "    loss = term1 + term2\n",
    "    loss = np.sum(loss) / N\n",
    "    \n",
    "    softmax = np.exp(z)/sum_exp_n.reshape(-1,1)\n",
    "\n",
    "    coef = np.exp(z) / sum_exp_n.reshape(-1,1)\n",
    "    coef[np.arange(N),y] -= 1\n",
    "    \n",
    "    dW = X.T.dot(coef)\n",
    "    dW /= N\n",
    "    \n",
    "    dX = coef.dot(W.T)\n",
    "    dX /= N\n",
    "    \n",
    "    db = np.sum(coef, axis=0)\n",
    "    db /= N\n",
    "\n",
    "    return(loss, dX, dW, db, softmax)\n",
    "\n",
    "np.random.seed(0)\n",
    "x = 5 * np.random.randn(3, 2) + 12\n",
    "w = np.random.randn(2,5)\n",
    "b = np.random.randn(5)\n",
    "dout = np.random.randn(3, 5)\n",
    "\n",
    "out, cache = linear_forward(x,w,b)\n",
    "dx, dw, db = linear_backward(dout, cache)\n",
    "\n",
    "fx = lambda x: linear_forward(x, w, b)[0]\n",
    "fw = lambda w: linear_forward(x, w, b)[0]\n",
    "fb = lambda b: linear_forward(x, w, b)[0]\n",
    "\n",
    "dx_num = gradient_check(fx, x, dout)\n",
    "dw_num = gradient_check(fw, w, dout)\n",
    "db_num = gradient_check(fb, b, dout)\n",
    "\n",
    "print ('dx error: ', rel_error(dx_num, dx))\n",
    "print ('dw error: ', rel_error(dw_num, dw))\n",
    "print ('db error: ', rel_error(db_num, db))"
   ]
  },
  {
   "cell_type": "code",
   "execution_count": 25,
   "metadata": {},
   "outputs": [],
   "source": [
    "# Create two hidden layers Neural Network \n",
    "# Forward: Use ReLU as activation functions\n",
    "# Forward: Use Softmax entropy loss as the final layer \n",
    "\n",
    "def step(X, y, params, batch_size):\n",
    "    # Create first hidden layer (both linear and relu)\n",
    "    o_l1, c_l1 = linear_forward(X, params['w1'], params['b1'])\n",
    "    o_r1, c_r1 = ReLU_forward(o_l1)\n",
    "    \n",
    "    # Create second hidden layer (both linear and relu)\n",
    "    o_l2, c_l2 = linear_forward(o_r1, params['w2'], params['b2'])\n",
    "    o_r2, c_r2 = ReLU_forward(o_l2)\n",
    "    \n",
    "    # Create last hidden layer with softmax entropy loss function\n",
    "    cost, dout_x3, dout_w3, dout_b3, softmax = softmax_entropy_loss(o_r2, params['w3'], params['b3'], y)\n",
    "    \n",
    "    # Compute backward propagation for second hidden layer (both relu and linear)\n",
    "    dout_r2 = ReLU_backward(dout_x3, c_r2)\n",
    "    dout_x2, dout_w2, dout_b2 = linear_backward(dout_r2, c_l2)\n",
    "    \n",
    "    # Compute backward propagation for first hidden layer (both relu and linear)\n",
    "    dout_r1 = ReLU_backward(dout_x2, c_r1)\n",
    "    dout_x1, dout_w1, dout_b1 = linear_backward(dout_r1, c_l1)\n",
    "        \n",
    "    pred = softmax.argmax(axis=1)\n",
    "    acc = np.sum(pred == y)/batch_size\n",
    "        \n",
    "    grads = {\n",
    "        'w1': dout_w1,\n",
    "        'b1': dout_b1,\n",
    "        'w2': dout_w2,\n",
    "        'b2': dout_b2,\n",
    "        'w3': dout_w3,\n",
    "        'b3': dout_b3, \n",
    "        }\n",
    "    \n",
    "    return(cost, acc, grads)"
   ]
  },
  {
   "cell_type": "code",
   "execution_count": 26,
   "metadata": {
    "scrolled": false
   },
   "outputs": [
    {
     "name": "stdout",
     "output_type": "stream",
     "text": [
      "Iter[0|1000]: Prediction Accuracy: 0.105, Cost: 114.051\n",
      "Iter[100|1000]: Prediction Accuracy: 0.300, Cost: 32.443\n",
      "Iter[200|1000]: Prediction Accuracy: 0.330, Cost: 29.920\n",
      "Iter[300|1000]: Prediction Accuracy: 0.415, Cost: 20.176\n",
      "Iter[400|1000]: Prediction Accuracy: 0.390, Cost: 19.165\n",
      "Iter[500|1000]: Prediction Accuracy: 0.365, Cost: 15.282\n",
      "Iter[600|1000]: Prediction Accuracy: 0.410, Cost: 16.030\n",
      "Iter[700|1000]: Prediction Accuracy: 0.470, Cost: 12.598\n",
      "Iter[800|1000]: Prediction Accuracy: 0.465, Cost: 11.950\n",
      "Iter[900|1000]: Prediction Accuracy: 0.465, Cost: 12.579\n"
     ]
    },
    {
     "data": {
      "text/plain": [
       "[<matplotlib.lines.Line2D at 0x7ff1b5f739e8>]"
      ]
     },
     "execution_count": 26,
     "metadata": {},
     "output_type": "execute_result"
    },
    {
     "data": {
      "image/png": "[encoded data removed]",
      "text/plain": [
       "<Figure size 432x288 with 1 Axes>"
      ]
     },
     "metadata": {
      "needs_background": "light"
     },
     "output_type": "display_data"
    }
   ],
   "source": [
    "def Xavier_initialization(N_in, N_out):\n",
    "    return np.random.randn(N_in, N_out).astype(np.float32) * np.sqrt(2.0/(N_in))\n",
    "\n",
    "def weight_init(shape, random_state=None):\n",
    "    if random_state:\n",
    "        np.random.seed(random_state)\n",
    "    params ={\n",
    "        'w1': Xavier_initialization(shape[0],shape[1]),\n",
    "        'b1': np.zeros(shape[1]),\n",
    "        'w2': Xavier_initialization(shape[1],shape[2]),\n",
    "        'b2': np.zeros(shape[2]),\n",
    "        'w3': Xavier_initialization(shape[2],shape[3]),\n",
    "        'b3': np.zeros(shape[3])\n",
    "    }\n",
    "    return params\n",
    "    \n",
    "\n",
    "shape = [3072, 3072, 1024, 10]\n",
    "params = weight_init(shape, random_state=0)\n",
    "\n",
    "\n",
    "def train_sgd(X,y,params,learning_rate=0.0001,num_iters=1000,batch_size=200):\n",
    "    num_train = X.shape[0]\n",
    "    params = params\n",
    "    costs = []\n",
    "    accs = []\n",
    "    for it in range(num_iters):\n",
    "        random_indices = np.random.choice(num_train, batch_size)\n",
    "        X_batch = X[random_indices]\n",
    "        y_batch = y[random_indices]\n",
    "        \n",
    "        cost, acc, grads = step(X_batch, y_batch, params, batch_size)\n",
    "        \n",
    "        # update parameters using SGD\n",
    "        for p in params:\n",
    "            params[p] += -learning_rate * grads[p]\n",
    "        \n",
    "        costs.append(cost)\n",
    "        accs.append(acc)\n",
    "        if (it % 100 == 0):\n",
    "            print('Iter[%d|%d]: Prediction Accuracy: %.3f, Cost: %.3f'%(it,num_iters,acc, cost))\n",
    "\n",
    "    return costs\n",
    "        \n",
    "        \n",
    "sgd = train_sgd(X_train, y_train, params)\n",
    "plt.plot(sgd)"
   ]
  },
  {
   "cell_type": "code",
   "execution_count": 27,
   "metadata": {},
   "outputs": [
    {
     "name": "stdout",
     "output_type": "stream",
     "text": [
      "Iter[0|1000]: Prediction Accuracy: 0.140, Loss: 121.482\n",
      "Iter[100|1000]: Prediction Accuracy: 0.395, Loss: 6.260\n",
      "Iter[200|1000]: Prediction Accuracy: 0.360, Loss: 2.946\n",
      "Iter[300|1000]: Prediction Accuracy: 0.420, Loss: 2.189\n",
      "Iter[400|1000]: Prediction Accuracy: 0.495, Loss: 1.862\n",
      "Iter[500|1000]: Prediction Accuracy: 0.450, Loss: 1.735\n",
      "Iter[600|1000]: Prediction Accuracy: 0.470, Loss: 1.716\n",
      "Iter[700|1000]: Prediction Accuracy: 0.510, Loss: 1.387\n",
      "Iter[800|1000]: Prediction Accuracy: 0.530, Loss: 1.428\n",
      "Iter[900|1000]: Prediction Accuracy: 0.550, Loss: 1.371\n"
     ]
    },
    {
     "data": {
      "text/plain": [
       "[<matplotlib.lines.Line2D at 0x7ff161459cf8>]"
      ]
     },
     "execution_count": 27,
     "metadata": {},
     "output_type": "execute_result"
    },
    {
     "data": {
      "image/png": "[encoded data removed]",
      "text/plain": [
       "<Figure size 432x288 with 1 Axes>"
      ]
     },
     "metadata": {
      "needs_background": "light"
     },
     "output_type": "display_data"
    }
   ],
   "source": [
    "shape = [3072, 3072, 1024, 10]\n",
    "params = weight_init(shape, random_state=0)\n",
    "\n",
    "\n",
    "def train_sgd_momentum(X,y,params,learning_rate=0.0001,num_iters=1000,batch_size=200):\n",
    "    num_train = X.shape[0]\n",
    "    params = params\n",
    "    costs = []\n",
    "    accs = []\n",
    "    \n",
    "    #sgd_momentum initialization\n",
    "    velocity = {k: np.zeros_like(v) for k, v in params.items()}\n",
    "    rho = 0.9\n",
    "    \n",
    "    for it in range(num_iters):\n",
    "        random_indices = np.random.choice(num_train, batch_size)\n",
    "        X_batch = X[random_indices]\n",
    "        y_batch = y[random_indices]\n",
    "        \n",
    "        cost, acc, grads = step(X_batch, y_batch, params, batch_size)\n",
    "        \n",
    "        # update parameters using SGD+Momentum\n",
    "        for p in params:\n",
    "            velocity[p] = rho*velocity[p]+grads[p]\n",
    "            params[p] += -learning_rate*velocity[p]\n",
    "        \n",
    "        costs.append(cost)\n",
    "        accs.append(acc)\n",
    "        if (it % 100 == 0):\n",
    "            print('Iter[%d|%d]: Prediction Accuracy: %.3f, Loss: %.3f'%(it,num_iters,acc, cost))\n",
    "\n",
    "    return costs\n",
    "        \n",
    "        \n",
    "sgd_m = train_sgd_momentum(X_train, y_train, params)\n",
    "plt.plot(sgd_m)"
   ]
  },
  {
   "cell_type": "code",
   "execution_count": 28,
   "metadata": {},
   "outputs": [
    {
     "name": "stdout",
     "output_type": "stream",
     "text": [
      "Iter[0|1000]: Prediction Accuracy: 0.130, Loss: 113.869\n",
      "Iter[100|1000]: Prediction Accuracy: 0.435, Loss: 23.540\n",
      "Iter[200|1000]: Prediction Accuracy: 0.525, Loss: 12.529\n",
      "Iter[300|1000]: Prediction Accuracy: 0.470, Loss: 9.143\n",
      "Iter[400|1000]: Prediction Accuracy: 0.485, Loss: 6.568\n",
      "Iter[500|1000]: Prediction Accuracy: 0.435, Loss: 5.339\n",
      "Iter[600|1000]: Prediction Accuracy: 0.545, Loss: 2.718\n",
      "Iter[700|1000]: Prediction Accuracy: 0.490, Loss: 2.252\n",
      "Iter[800|1000]: Prediction Accuracy: 0.575, Loss: 1.770\n",
      "Iter[900|1000]: Prediction Accuracy: 0.510, Loss: 1.665\n"
     ]
    },
    {
     "data": {
      "text/plain": [
       "[<matplotlib.lines.Line2D at 0x7ff15d479ba8>]"
      ]
     },
     "execution_count": 28,
     "metadata": {},
     "output_type": "execute_result"
    },
    {
     "data": {
      "image/png": "[encoded data removed]",
      "text/plain": [
       "<Figure size 432x288 with 1 Axes>"
      ]
     },
     "metadata": {
      "needs_background": "light"
     },
     "output_type": "display_data"
    }
   ],
   "source": [
    "shape = [3072, 3072, 1024, 10]\n",
    "params = weight_init(shape, random_state=0)\n",
    "\n",
    "def train_adam(X,y,params,learning_rate=0.0001,num_iters=1000,batch_size=200):\n",
    "    num_train = X.shape[0]\n",
    "    params = params\n",
    "    costs = []\n",
    "    accs = []\n",
    "    \n",
    "    # adam initialization  \n",
    "    first_moment = {k: np.zeros_like(v) for k, v in params.items()}\n",
    "    second_moment = {k: np.zeros_like(v) for k, v in params.items()}\n",
    "    beta1 = 0.9\n",
    "    beta2 = 0.999\n",
    "    epsilon = 1e-8\n",
    "    for it in range(num_iters):\n",
    "        random_indices = np.random.choice(num_train, batch_size)\n",
    "        X_batch = X[random_indices]\n",
    "        y_batch = y[random_indices]\n",
    "        \n",
    "        cost, acc, grads = step(X_batch, y_batch, params, batch_size)\n",
    "        \n",
    "        # update parameters using Adam\n",
    "        for p in params:\n",
    "            first_moment[p] = beta1 * first_moment[p] + (1 - beta1) * grads[p]\n",
    "            second_moment[p] = beta2 * second_moment[p] + (1 - beta2) * grads[p]**2\n",
    "            first_unbias_p = first_moment[p]/(1-beta1**(it+1))\n",
    "            second_unbias_p = second_moment[p]/(1-beta2**(it+1))\n",
    "            params[p] += -(learning_rate*first_unbias_p)/(np.sqrt(second_unbias_p)+epsilon)\n",
    "        \n",
    "        costs.append(cost)\n",
    "        accs.append(acc)\n",
    "        if (it % 100 == 0):\n",
    "            print('Iter[%d|%d]: Prediction Accuracy: %.3f, Loss: %.3f'%(it,num_iters,acc, cost))\n",
    "\n",
    "    return costs\n",
    "        \n",
    "        \n",
    "adam = train_adam(X_train, y_train, params)\n",
    "plt.plot(adam)"
   ]
  },
  {
   "cell_type": "code",
   "execution_count": 29,
   "metadata": {},
   "outputs": [
    {
     "data": {
      "image/png": "[encoded data removed]",
      "text/plain": [
       "<Figure size 432x288 with 1 Axes>"
      ]
     },
     "metadata": {
      "needs_background": "light"
     },
     "output_type": "display_data"
    }
   ],
   "source": [
    "plt.plot(sgd)\n",
    "plt.plot(sgd_m)\n",
    "plt.plot(adam)\n",
    "\n",
    "plt.legend(['SGD', 'SGD+Momentum','Adam'], loc='upper right')\n",
    "plt.show()"
   ]
  },
  {
   "cell_type": "markdown",
   "metadata": {
    "collapsed": true
   },
   "source": [
    "Click here to go back [Table of Content](#Table_of_Content)."
   ]
  },
  {
   "cell_type": "markdown",
   "metadata": {},
   "source": [
    "# References\n",
    "\n",
    "- Ioffe, S., & Szegedy, C. (2015). Batch normalization: Accelerating deep network training by reducing internal covariate shift. arXiv preprint arXiv:1502.03167.\n",
    "- http://cs231n.stanford.edu/\n",
    "- https://www.quora.com/What-does-an-x-axis-represent-in-a-logistic-regression-sigmoid-function\n",
    "- http://mathworld.wolfram.com/HyperbolicTangent.html\n",
    "- https://ml4a.github.io/ml4a/neural_networks/\n",
    "- https://towardsdatascience.com/activation-functions-in-neural-networks-58115cda9c96\n",
    "- https://mlxai.github.io/2017/01/09/implementing-softmax-classifier-with-vectorized-operations.html\n",
    "- https://kevinzakka.github.io/2016/09/14/batch_normalization/\n",
    "- https://kratzert.github.io/2016/02/12/understanding-the-gradient-flow-through-the-batch-normalization-layer.html\n",
    "- http://andyljones.tumblr.com/post/110998971763/an-explanation-of-xavier-initialization\n"
   ]
  }
 ],
 "metadata": {
  "kernelspec": {
   "display_name": "Python 3",
   "language": "python",
   "name": "python3"
  },
  "language_info": {
   "codemirror_mode": {
    "name": "ipython",
    "version": 3
   },
   "file_extension": ".py",
   "mimetype": "text/x-python",
   "name": "python",
   "nbconvert_exporter": "python",
   "pygments_lexer": "ipython3",
   "version": "3.6.7"
  }
 },
 "nbformat": 4,
 "nbformat_minor": 2
}
